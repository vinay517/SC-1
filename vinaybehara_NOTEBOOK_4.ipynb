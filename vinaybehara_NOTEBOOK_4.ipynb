{
 "cells": [
  {
   "cell_type": "markdown",
   "metadata": {
    "collapsed": true
   },
   "source": [
    "## Notebook 4: LMS Linear Adaptive Filter Training\n",
    "<b>Introduction to Soft Computing, Spring, 2018 <br>\n",
    "Wright State University</b>\n",
    "\n",
    "This notebook provides one implementation of LMS error correction learning for a simple linear adaptive filter.  \n",
    "You may note that the comments are becoming less frequent and less detailed.  This is on purpose.  Many coding methods from previous notebooks are being reused here, and by now you should be sufficiently familiar with them to\n",
    "be able to extract the meaning of the code yourself.\n"
   ]
  },
  {
   "cell_type": "code",
   "execution_count": 33,
   "metadata": {
    "scrolled": true
   },
   "outputs": [
    {
     "name": "stdout",
     "output_type": "stream",
     "text": [
      "Inital Error 1.568966916508561\n",
      "Final error after 40000 epochs of training = 1.8846087304175125\n"
     ]
    },
    {
     "data": {
      "image/png": "[encoded data removed]",
      "text/plain": [
       "<matplotlib.figure.Figure at 0x2086ac37470>"
      ]
     },
     "metadata": {},
     "output_type": "display_data"
    }
   ],
   "source": [
    "%matplotlib inline\n",
    "\n",
    "import numpy as np\n",
    "import math as math\n",
    "import matplotlib.pyplot as plt\n",
    "import random as random\n",
    "\n",
    "def Mean_Squared_Error(Data_Points, W):\n",
    "    # Start Error Count at Zero\n",
    "    error = 0 \n",
    "    for pair in Data_Points:\n",
    "        y_predicted = np.dot(W, np.insert(pair[:-1],0,1))\n",
    "        error += np.square(pair[1] - y_predicted)        \n",
    "    return error / len(Data_Points)\n",
    "\n",
    "\n",
    "random.seed()   # Seed the random number generator in the Python <random> package.\n",
    "\n",
    "# Let's make a cloud of randomized data points for us to fit the line to. First we'll\n",
    "# make two lists of points and then stack them into a single matrix of point pairs\n",
    "X_points = np.linspace(0.0, 15.0, num = 50)\n",
    "Y_points = [x + random.uniform(-2.0, 2.0) for x in X_points]\n",
    "#Y_points = [x for x in X_points]\n",
    "Points   = np.column_stack([X_points, Y_points])\n",
    "\n",
    "# Now, let's make a random two-input linear adaptive filter by setting randomized \n",
    "# bias, weight_1, and weight_2 in a single weight vector.\n",
    "\n",
    "W  =  np.array(np.random.rand(2))\n",
    "\n",
    "# Set a learning rate.  Remember, both too large or too small a learning rate are bad.  Refer to lecture notes.\n",
    "\n",
    "learning_rate = 0.005\n",
    "\n",
    "print ('Inital Error {0}'.format(Mean_Squared_Error(Points,W)))\n",
    "\n",
    "count = 0\n",
    "while count < 40000:\n",
    "    for pair in Points:\n",
    "        y_predicted = np.dot(W, np.insert(pair[:-1],0,1))\n",
    "        delta_W     = [x * (learning_rate * (pair[1]-y_predicted)) for x in np.insert(pair[:-1],0,1)] \n",
    "        W           = np.add(W,delta_W)\n",
    "        #print W\n",
    "    count +=1\n",
    "\n",
    "\n",
    "print ('Final error after {0} epochs of training = {1}'.format(count,Mean_Squared_Error(Points,W)))\n",
    "# Compute the regression line\n",
    "X_regression = np.linspace(0.0, 15.0, num = 50)\n",
    "Y_regression = [W[1]*x+W[0] for x in X_regression]\n",
    "                       \n",
    "# set up the conditions of the plot (title, lables, ranges, etc.)\n",
    "plt.title('Linear Regression with a Linear Adaptive Filter')\n",
    "plt.xlabel('x')\n",
    "plt.ylabel('y')\n",
    "plt.axis([0.0, 15.0, 0.0, 15.0])\n",
    "\n",
    "plt.plot(X_regression, Y_regression, color='green')  # plot the separatrix\n",
    "plt.plot(X_points, Y_points, marker='+', color = 'blue', ls='')  # plot the separatrix\n",
    "plt.show()                                     # show the plot"
   ]
  },
  {
   "cell_type": "code",
   "execution_count": null,
   "metadata": {
    "collapsed": true
   },
   "outputs": [],
   "source": []
  },
  {
   "cell_type": "code",
   "execution_count": null,
   "metadata": {
    "collapsed": true
   },
   "outputs": [],
   "source": []
  }
 ],
 "metadata": {
  "kernelspec": {
   "display_name": "Python 3",
   "language": "python",
   "name": "python3"
  },
  "language_info": {
   "codemirror_mode": {
    "name": "ipython",
    "version": 3
   },
   "file_extension": ".py",
   "mimetype": "text/x-python",
   "name": "python",
   "nbconvert_exporter": "python",
   "pygments_lexer": "ipython3",
   "version": "3.6.3"
  }
 },
 "nbformat": 4,
 "nbformat_minor": 1
}
